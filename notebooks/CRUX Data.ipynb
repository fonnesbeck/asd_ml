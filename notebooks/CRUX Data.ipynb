{
 "cells": [
  {
   "cell_type": "code",
   "execution_count": 29,
   "metadata": {},
   "outputs": [],
   "source": [
    "%matplotlib inline\n",
    "import matplotlib.pyplot as plt\n",
    "import pandas as pd\n",
    "import seaborn as sns\n",
    "import numpy as np\n",
    "from redcap import Project\n",
    "sns.set()\n",
    "\n",
    "api_url = 'https://redcap.vanderbilt.edu/api/'"
   ]
  },
  {
   "cell_type": "markdown",
   "metadata": {},
   "source": [
    "## Data import"
   ]
  },
  {
   "cell_type": "code",
   "execution_count": 10,
   "metadata": {},
   "outputs": [
    {
     "name": "stderr",
     "output_type": "stream",
     "text": [
      "/Users/fonnescj/anaconda3/envs/dev/lib/python3.6/site-packages/IPython/core/interactiveshell.py:2787: DtypeWarning: Columns (0,259,465,672,927) have mixed types. Specify dtype option on import or set low_memory=False.\n",
      "  if self.run_code(code, result):\n"
     ]
    }
   ],
   "source": [
    "clinical_key = open(\"/Users/fonnescj/Dropbox/Tokens/crux_clinical.txt\").read()\n",
    "clinical_proj = Project(api_url, clinical_key)\n",
    "clinical_raw = clinical_proj.export_records(format='df', \n",
    "                    df_kwargs={'index_col': clinical_proj.field_names[0],\n",
    "                              'parse_dates': ['child_dob', 'ados_date']})"
   ]
  },
  {
   "cell_type": "code",
   "execution_count": 22,
   "metadata": {},
   "outputs": [
    {
     "data": {
      "text/plain": [
       "(3395, 1180)"
      ]
     },
     "execution_count": 22,
     "metadata": {},
     "output_type": "execute_result"
    }
   ],
   "source": [
    "clinical_raw.shape"
   ]
  },
  {
   "cell_type": "markdown",
   "metadata": {},
   "source": [
    "Dropping columns with >70% missing"
   ]
  },
  {
   "cell_type": "code",
   "execution_count": 36,
   "metadata": {},
   "outputs": [
    {
     "data": {
      "text/plain": [
       "(3395, 121)"
      ]
     },
     "execution_count": 36,
     "metadata": {},
     "output_type": "execute_result"
    }
   ],
   "source": [
    "clinical_complete = clinical_raw.dropna(thresh=int(0.3*clinical_raw.shape[0]), axis=1)\n",
    "clinical_complete.shape"
   ]
  },
  {
   "cell_type": "code",
   "execution_count": 37,
   "metadata": {},
   "outputs": [
    {
     "data": {
      "text/plain": [
       "Index(['child_dob', 'ados_date', 'age_ados', 'ados_module', 'ados_2',\n",
       "       'ados_new_algorithm', 'ados_severity', 'ados_classification',\n",
       "       'ados_raw_1_a1', 'ados_raw_1_a2',\n",
       "       ...\n",
       "       'iqmeasure_2014___3', 'iqmeasure_2014___4', 'iqmeasure_2014___5',\n",
       "       'iqmeasure_2014___6', 'iqmeasure_2014___7', 'iqmeasure_2014___8',\n",
       "       'iqmeasure_2014___9', 'iqmeasure_2014___10', 'iqmeasure_2014___11',\n",
       "       'iqmeasure_2014___12'],\n",
       "      dtype='object', length=121)"
      ]
     },
     "execution_count": 37,
     "metadata": {},
     "output_type": "execute_result"
    }
   ],
   "source": [
    "clinical_complete.columns"
   ]
  },
  {
   "cell_type": "code",
   "execution_count": 39,
   "metadata": {},
   "outputs": [],
   "source": [
    "demographics_key = open(\"/Users/fonnescj/Dropbox/Tokens/crux_demographics.txt\").read()\n",
    "demographics_proj = Project(api_url, demographics_key)\n",
    "demographics_raw = demographics_proj.export_records(format='df', \n",
    "                    df_kwargs={'index_col': demographics_proj.field_names[0],\n",
    "                              'parse_dates': ['child_dob']})"
   ]
  },
  {
   "cell_type": "code",
   "execution_count": 40,
   "metadata": {},
   "outputs": [
    {
     "data": {
      "text/plain": [
       "(3739, 71)"
      ]
     },
     "execution_count": 40,
     "metadata": {},
     "output_type": "execute_result"
    }
   ],
   "source": [
    "demographics_raw.shape"
   ]
  },
  {
   "cell_type": "code",
   "execution_count": 41,
   "metadata": {},
   "outputs": [
    {
     "data": {
      "text/plain": [
       "(3739, 55)"
      ]
     },
     "execution_count": 41,
     "metadata": {},
     "output_type": "execute_result"
    }
   ],
   "source": [
    "demographics_complete = demographics_raw.dropna(thresh=int(0.3*demographics_raw.shape[0]), \n",
    "                                                axis=1)\n",
    "demographics_complete.shape"
   ]
  },
  {
   "cell_type": "code",
   "execution_count": 42,
   "metadata": {},
   "outputs": [
    {
     "data": {
      "text/plain": [
       "Index(['study_id', 'referral_study___1', 'referral_study___2',\n",
       "       'referral_study___3', 'referral_study___4', 'referral_study___5',\n",
       "       'referral_study___6', 'referral_study___7', 'referral_study___8',\n",
       "       'referral_study___9', 'referral_study___10', 'referral_study___11',\n",
       "       'referral_study___12', 'referral_study___13', 'referral_study___14',\n",
       "       'referral_study___15', 'referral_study___16', 'referral_study___17',\n",
       "       'referral_study___18', 'referral_study___19', 'referral_study___20',\n",
       "       'referral_study___22', 'referral_study___23', 'referral_study___24',\n",
       "       'referral_study___25', 'baby_sib', 'control', 'triad_consent',\n",
       "       'contact_consent', 'data_consent', 'child_first_name',\n",
       "       'child_last_name', 'child_dob', 'child_sex', 'psychologist',\n",
       "       'diagnosis___1', 'diagnosis___2', 'diagnosis___3', 'diagnosis___4',\n",
       "       'diagnosis___5', 'diagnosis___6', 'diagnosis___7', 'diagnosis___8',\n",
       "       'diagnosis___9', 'diagnosis___10', 'mothers_firstname',\n",
       "       'mothers_lastname', 'fathers_firstname', 'fathers_lastname',\n",
       "       'address_street', 'address_city', 'address_state', 'zipcode',\n",
       "       'phone_number', 'email'],\n",
       "      dtype='object')"
      ]
     },
     "execution_count": 42,
     "metadata": {},
     "output_type": "execute_result"
    }
   ],
   "source": [
    "demographics_complete.columns"
   ]
  },
  {
   "cell_type": "markdown",
   "metadata": {},
   "source": [
    "Age distribution of clinical data"
   ]
  },
  {
   "cell_type": "code",
   "execution_count": 44,
   "metadata": {},
   "outputs": [
    {
     "data": {
      "image/png": "[encoded data removed]",
      "text/plain": [
       "<matplotlib.figure.Figure at 0x1196e0eb8>"
      ]
     },
     "metadata": {},
     "output_type": "display_data"
    }
   ],
   "source": [
    "clinical_complete.age_ados.hist();"
   ]
  },
  {
   "cell_type": "code",
   "execution_count": null,
   "metadata": {},
   "outputs": [],
   "source": []
  }
 ],
 "metadata": {
  "kernelspec": {
   "display_name": "Python 3",
   "language": "python",
   "name": "python3"
  },
  "language_info": {
   "codemirror_mode": {
    "name": "ipython",
    "version": 3
   },
   "file_extension": ".py",
   "mimetype": "text/x-python",
   "name": "python",
   "nbconvert_exporter": "python",
   "pygments_lexer": "ipython3",
   "version": "3.6.1"
  }
 },
 "nbformat": 4,
 "nbformat_minor": 2
}
